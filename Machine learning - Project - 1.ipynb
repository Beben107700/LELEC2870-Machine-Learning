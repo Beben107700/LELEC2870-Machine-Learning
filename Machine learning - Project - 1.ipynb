{
 "cells": [
  {
   "cell_type": "markdown",
   "metadata": {},
   "source": [
    "# Machine learning - Project - 1\n",
    "author: Ben Delcoigne\n",
    "\n",
    "## Feature selection\n",
    "\n",
    "We will start by importing our data and taking a first look at it: \n"
   ]
  },
  {
   "cell_type": "code",
   "execution_count": 105,
   "metadata": {},
   "outputs": [],
   "source": [
    "import pandas as pd\n",
    "import scipy\n",
    "import matplotlib.pyplot as plt\n",
    "import numpy as np\n",
    "import sklearn.linear_model as lm\n",
    "from sklearn.feature_selection import SelectFromModel\n",
    "import sklearn.feature_selection as fsl\n",
    "\n",
    "X1 = pd.read_csv('X1.csv')\n",
    "Y1 = pd.read_csv('Y1.csv', header = None, names = ['shares'])\n",
    "\n",
    "X1 = X1"
   ]
  },
  {
   "cell_type": "code",
   "execution_count": 132,
   "metadata": {},
   "outputs": [
    {
     "data": {
      "text/html": [
       "<div>\n",
       "<style scoped>\n",
       "    .dataframe tbody tr th:only-of-type {\n",
       "        vertical-align: middle;\n",
       "    }\n",
       "\n",
       "    .dataframe tbody tr th {\n",
       "        vertical-align: top;\n",
       "    }\n",
       "\n",
       "    .dataframe thead th {\n",
       "        text-align: right;\n",
       "    }\n",
       "</style>\n",
       "<table border=\"1\" class=\"dataframe\">\n",
       "  <thead>\n",
       "    <tr style=\"text-align: right;\">\n",
       "      <th></th>\n",
       "      <th>n_tokens_title</th>\n",
       "      <th>n_tokens_content</th>\n",
       "      <th>n_unique_tokens</th>\n",
       "      <th>n_non_stop_words</th>\n",
       "      <th>n_non_stop_unique_tokens</th>\n",
       "      <th>num_hrefs</th>\n",
       "      <th>num_self_hrefs</th>\n",
       "      <th>num_imgs</th>\n",
       "      <th>num_videos</th>\n",
       "      <th>average_token_length</th>\n",
       "      <th>...</th>\n",
       "      <th>avg_positive_polarity</th>\n",
       "      <th>min_positive_polarity</th>\n",
       "      <th>max_positive_polarity</th>\n",
       "      <th>avg_negative_polarity</th>\n",
       "      <th>min_negative_polarity</th>\n",
       "      <th>max_negative_polarity</th>\n",
       "      <th>title_subjectivity</th>\n",
       "      <th>title_sentiment_polarity</th>\n",
       "      <th>abs_title_subjectivity</th>\n",
       "      <th>abs_title_sentiment_polarity</th>\n",
       "    </tr>\n",
       "  </thead>\n",
       "  <tbody>\n",
       "    <tr>\n",
       "      <th>0</th>\n",
       "      <td>0.470588</td>\n",
       "      <td>0.044725</td>\n",
       "      <td>0.521622</td>\n",
       "      <td>1.0</td>\n",
       "      <td>0.697248</td>\n",
       "      <td>0.029240</td>\n",
       "      <td>0.017241</td>\n",
       "      <td>0.007812</td>\n",
       "      <td>0.000000</td>\n",
       "      <td>0.513167</td>\n",
       "      <td>...</td>\n",
       "      <td>0.368452</td>\n",
       "      <td>0.1</td>\n",
       "      <td>0.5</td>\n",
       "      <td>0.755556</td>\n",
       "      <td>0.500000</td>\n",
       "      <td>0.950000</td>\n",
       "      <td>0.227273</td>\n",
       "      <td>0.534091</td>\n",
       "      <td>0.545455</td>\n",
       "      <td>0.068182</td>\n",
       "    </tr>\n",
       "    <tr>\n",
       "      <th>1</th>\n",
       "      <td>0.588235</td>\n",
       "      <td>0.047439</td>\n",
       "      <td>0.502660</td>\n",
       "      <td>1.0</td>\n",
       "      <td>0.645299</td>\n",
       "      <td>0.070175</td>\n",
       "      <td>0.086207</td>\n",
       "      <td>0.007812</td>\n",
       "      <td>0.000000</td>\n",
       "      <td>0.564235</td>\n",
       "      <td>...</td>\n",
       "      <td>0.270170</td>\n",
       "      <td>0.1</td>\n",
       "      <td>0.5</td>\n",
       "      <td>0.840741</td>\n",
       "      <td>0.833333</td>\n",
       "      <td>0.844444</td>\n",
       "      <td>0.500000</td>\n",
       "      <td>0.750000</td>\n",
       "      <td>0.000000</td>\n",
       "      <td>0.500000</td>\n",
       "    </tr>\n",
       "    <tr>\n",
       "      <th>2</th>\n",
       "      <td>0.529412</td>\n",
       "      <td>0.000000</td>\n",
       "      <td>0.000000</td>\n",
       "      <td>0.0</td>\n",
       "      <td>0.000000</td>\n",
       "      <td>0.000000</td>\n",
       "      <td>0.000000</td>\n",
       "      <td>0.000000</td>\n",
       "      <td>0.010989</td>\n",
       "      <td>0.000000</td>\n",
       "      <td>...</td>\n",
       "      <td>0.000000</td>\n",
       "      <td>0.0</td>\n",
       "      <td>0.0</td>\n",
       "      <td>1.000000</td>\n",
       "      <td>1.000000</td>\n",
       "      <td>1.000000</td>\n",
       "      <td>0.000000</td>\n",
       "      <td>0.500000</td>\n",
       "      <td>1.000000</td>\n",
       "      <td>0.000000</td>\n",
       "    </tr>\n",
       "    <tr>\n",
       "      <th>3</th>\n",
       "      <td>0.411765</td>\n",
       "      <td>0.030210</td>\n",
       "      <td>0.619608</td>\n",
       "      <td>1.0</td>\n",
       "      <td>0.792208</td>\n",
       "      <td>0.011696</td>\n",
       "      <td>0.000000</td>\n",
       "      <td>0.000000</td>\n",
       "      <td>0.010989</td>\n",
       "      <td>0.577568</td>\n",
       "      <td>...</td>\n",
       "      <td>0.245130</td>\n",
       "      <td>0.1</td>\n",
       "      <td>1.0</td>\n",
       "      <td>0.500000</td>\n",
       "      <td>0.500000</td>\n",
       "      <td>0.500000</td>\n",
       "      <td>0.200000</td>\n",
       "      <td>0.550000</td>\n",
       "      <td>0.600000</td>\n",
       "      <td>0.100000</td>\n",
       "    </tr>\n",
       "    <tr>\n",
       "      <th>4</th>\n",
       "      <td>0.588235</td>\n",
       "      <td>0.031626</td>\n",
       "      <td>0.591603</td>\n",
       "      <td>1.0</td>\n",
       "      <td>0.740260</td>\n",
       "      <td>0.005848</td>\n",
       "      <td>0.008621</td>\n",
       "      <td>0.007812</td>\n",
       "      <td>0.010989</td>\n",
       "      <td>0.580939</td>\n",
       "      <td>...</td>\n",
       "      <td>0.539076</td>\n",
       "      <td>0.2</td>\n",
       "      <td>1.0</td>\n",
       "      <td>0.745833</td>\n",
       "      <td>0.500000</td>\n",
       "      <td>0.950000</td>\n",
       "      <td>0.000000</td>\n",
       "      <td>0.500000</td>\n",
       "      <td>1.000000</td>\n",
       "      <td>0.000000</td>\n",
       "    </tr>\n",
       "  </tbody>\n",
       "</table>\n",
       "<p>5 rows × 58 columns</p>\n",
       "</div>"
      ],
      "text/plain": [
       "   n_tokens_title  n_tokens_content  n_unique_tokens  n_non_stop_words  \\\n",
       "0        0.470588          0.044725         0.521622               1.0   \n",
       "1        0.588235          0.047439         0.502660               1.0   \n",
       "2        0.529412          0.000000         0.000000               0.0   \n",
       "3        0.411765          0.030210         0.619608               1.0   \n",
       "4        0.588235          0.031626         0.591603               1.0   \n",
       "\n",
       "   n_non_stop_unique_tokens  num_hrefs  num_self_hrefs  num_imgs  num_videos  \\\n",
       "0                  0.697248   0.029240        0.017241  0.007812    0.000000   \n",
       "1                  0.645299   0.070175        0.086207  0.007812    0.000000   \n",
       "2                  0.000000   0.000000        0.000000  0.000000    0.010989   \n",
       "3                  0.792208   0.011696        0.000000  0.000000    0.010989   \n",
       "4                  0.740260   0.005848        0.008621  0.007812    0.010989   \n",
       "\n",
       "   average_token_length  ...  avg_positive_polarity  min_positive_polarity  \\\n",
       "0              0.513167  ...               0.368452                    0.1   \n",
       "1              0.564235  ...               0.270170                    0.1   \n",
       "2              0.000000  ...               0.000000                    0.0   \n",
       "3              0.577568  ...               0.245130                    0.1   \n",
       "4              0.580939  ...               0.539076                    0.2   \n",
       "\n",
       "   max_positive_polarity  avg_negative_polarity  min_negative_polarity  \\\n",
       "0                    0.5               0.755556               0.500000   \n",
       "1                    0.5               0.840741               0.833333   \n",
       "2                    0.0               1.000000               1.000000   \n",
       "3                    1.0               0.500000               0.500000   \n",
       "4                    1.0               0.745833               0.500000   \n",
       "\n",
       "   max_negative_polarity  title_subjectivity  title_sentiment_polarity  \\\n",
       "0               0.950000            0.227273                  0.534091   \n",
       "1               0.844444            0.500000                  0.750000   \n",
       "2               1.000000            0.000000                  0.500000   \n",
       "3               0.500000            0.200000                  0.550000   \n",
       "4               0.950000            0.000000                  0.500000   \n",
       "\n",
       "   abs_title_subjectivity  abs_title_sentiment_polarity  \n",
       "0                0.545455                      0.068182  \n",
       "1                0.000000                      0.500000  \n",
       "2                1.000000                      0.000000  \n",
       "3                0.600000                      0.100000  \n",
       "4                1.000000                      0.000000  \n",
       "\n",
       "[5 rows x 58 columns]"
      ]
     },
     "execution_count": 132,
     "metadata": {},
     "output_type": "execute_result"
    }
   ],
   "source": [
    "X1.describe()\n",
    "X1.head()"
   ]
  },
  {
   "cell_type": "code",
   "execution_count": 107,
   "metadata": {},
   "outputs": [
    {
     "data": {
      "text/html": [
       "<div>\n",
       "<style scoped>\n",
       "    .dataframe tbody tr th:only-of-type {\n",
       "        vertical-align: middle;\n",
       "    }\n",
       "\n",
       "    .dataframe tbody tr th {\n",
       "        vertical-align: top;\n",
       "    }\n",
       "\n",
       "    .dataframe thead th {\n",
       "        text-align: right;\n",
       "    }\n",
       "</style>\n",
       "<table border=\"1\" class=\"dataframe\">\n",
       "  <thead>\n",
       "    <tr style=\"text-align: right;\">\n",
       "      <th></th>\n",
       "      <th>shares</th>\n",
       "    </tr>\n",
       "  </thead>\n",
       "  <tbody>\n",
       "    <tr>\n",
       "      <th>count</th>\n",
       "      <td>19822.00000</td>\n",
       "    </tr>\n",
       "    <tr>\n",
       "      <th>mean</th>\n",
       "      <td>3430.66850</td>\n",
       "    </tr>\n",
       "    <tr>\n",
       "      <th>std</th>\n",
       "      <td>11789.36858</td>\n",
       "    </tr>\n",
       "    <tr>\n",
       "      <th>min</th>\n",
       "      <td>1.00000</td>\n",
       "    </tr>\n",
       "    <tr>\n",
       "      <th>25%</th>\n",
       "      <td>949.00000</td>\n",
       "    </tr>\n",
       "    <tr>\n",
       "      <th>50%</th>\n",
       "      <td>1400.00000</td>\n",
       "    </tr>\n",
       "    <tr>\n",
       "      <th>75%</th>\n",
       "      <td>2800.00000</td>\n",
       "    </tr>\n",
       "    <tr>\n",
       "      <th>max</th>\n",
       "      <td>843300.00000</td>\n",
       "    </tr>\n",
       "  </tbody>\n",
       "</table>\n",
       "</div>"
      ],
      "text/plain": [
       "             shares\n",
       "count   19822.00000\n",
       "mean     3430.66850\n",
       "std     11789.36858\n",
       "min         1.00000\n",
       "25%       949.00000\n",
       "50%      1400.00000\n",
       "75%      2800.00000\n",
       "max    843300.00000"
      ]
     },
     "execution_count": 107,
     "metadata": {},
     "output_type": "execute_result"
    }
   ],
   "source": [
    "Y1.describe()"
   ]
  },
  {
   "cell_type": "markdown",
   "metadata": {},
   "source": [
    "## Removing outliers?\n"
   ]
  },
  {
   "cell_type": "code",
   "execution_count": 108,
   "metadata": {},
   "outputs": [
    {
     "name": "stdout",
     "output_type": "stream",
     "text": [
      "[ True  True  True ...  True  True  True]\n",
      "19663\n",
      "19822\n"
     ]
    },
    {
     "data": {
      "text/html": [
       "<div>\n",
       "<style scoped>\n",
       "    .dataframe tbody tr th:only-of-type {\n",
       "        vertical-align: middle;\n",
       "    }\n",
       "\n",
       "    .dataframe tbody tr th {\n",
       "        vertical-align: top;\n",
       "    }\n",
       "\n",
       "    .dataframe thead th {\n",
       "        text-align: right;\n",
       "    }\n",
       "</style>\n",
       "<table border=\"1\" class=\"dataframe\">\n",
       "  <thead>\n",
       "    <tr style=\"text-align: right;\">\n",
       "      <th></th>\n",
       "      <th>shares</th>\n",
       "    </tr>\n",
       "  </thead>\n",
       "  <tbody>\n",
       "    <tr>\n",
       "      <th>count</th>\n",
       "      <td>19663.000000</td>\n",
       "    </tr>\n",
       "    <tr>\n",
       "      <th>mean</th>\n",
       "      <td>2768.815135</td>\n",
       "    </tr>\n",
       "    <tr>\n",
       "      <th>std</th>\n",
       "      <td>3992.858725</td>\n",
       "    </tr>\n",
       "    <tr>\n",
       "      <th>min</th>\n",
       "      <td>1.000000</td>\n",
       "    </tr>\n",
       "    <tr>\n",
       "      <th>25%</th>\n",
       "      <td>945.000000</td>\n",
       "    </tr>\n",
       "    <tr>\n",
       "      <th>50%</th>\n",
       "      <td>1400.000000</td>\n",
       "    </tr>\n",
       "    <tr>\n",
       "      <th>75%</th>\n",
       "      <td>2700.000000</td>\n",
       "    </tr>\n",
       "    <tr>\n",
       "      <th>max</th>\n",
       "      <td>38700.000000</td>\n",
       "    </tr>\n",
       "  </tbody>\n",
       "</table>\n",
       "</div>"
      ],
      "text/plain": [
       "             shares\n",
       "count  19663.000000\n",
       "mean    2768.815135\n",
       "std     3992.858725\n",
       "min        1.000000\n",
       "25%      945.000000\n",
       "50%     1400.000000\n",
       "75%     2700.000000\n",
       "max    38700.000000"
      ]
     },
     "execution_count": 108,
     "metadata": {},
     "output_type": "execute_result"
    }
   ],
   "source": [
    "z_scores = scipy.stats.zscore(Y1)\n",
    "filtered = (np.abs(z_scores)<3).all(axis=1)\n",
    "print(filtered)\n",
    "true = 0\n",
    "total = len(filtered)\n",
    "for i in filtered: \n",
    "    if i:\n",
    "        true+=1\n",
    "print(true)\n",
    "print(total)\n",
    "\n",
    "X1 = X1[filtered]\n",
    "Y1 = Y1[filtered]\n",
    "\n",
    "Y1.describe()"
   ]
  },
  {
   "cell_type": "code",
   "execution_count": 109,
   "metadata": {},
   "outputs": [
    {
     "name": "stdout",
     "output_type": "stream",
     "text": [
      "[-0.01401332  0.00089562 -0.0168439  -0.03166801 -0.03761101  0.07654033\n",
      "  0.01279757  0.08147842  0.03658408 -0.03765049  0.0412085   0.02034043\n",
      " -0.04286412 -0.04348022  0.04980581  0.00685073 -0.09447022  0.0177207\n",
      "  0.0393299   0.04080454  0.01428435 -0.00088439  0.05149109  0.08314915\n",
      "  0.10967531  0.18572532  0.0517502   0.05289959  0.06217173 -0.00193513\n",
      " -0.02443006 -0.01579065 -0.02137719  0.00717887  0.03809475  0.05098491\n",
      "  0.06557879  0.00019077 -0.02699137 -0.10585314  0.12431228 -0.00357237\n",
      "  0.06175997  0.01545899  0.01199752  0.02008216 -0.02061558 -0.00915746\n",
      "  0.03590221  0.01068577  0.02437531 -0.03777176 -0.02529485 -0.01497394\n",
      "  0.04536092  0.03206055 -0.00296252  0.04774786]\n"
     ]
    }
   ],
   "source": [
    "#We can take a look at the correlation of our data\n",
    "n_samples, n_feats = X1.shape\n",
    "corr_vec = np.corrcoef(X1,Y1, rowvar=False)[-1, :n_feats]\n",
    "most_corr = np.argsort(np.abs(corr_vec))\n",
    "\n",
    "print(corr_vec)"
   ]
  },
  {
   "cell_type": "markdown",
   "metadata": {},
   "source": [
    "We notice the linear correlation between the features is not good, which is to be expected"
   ]
  },
  {
   "cell_type": "markdown",
   "metadata": {},
   "source": [
    "## Normalizing our data\n",
    "In order for our models to work, we can normalize the data. This is to make sure some data are not overwhelming the effects of other data since some models apply the same weight to each feature. "
   ]
  },
  {
   "cell_type": "code",
   "execution_count": 110,
   "metadata": {},
   "outputs": [],
   "source": [
    "df = X1\n",
    "normalized_df=(df-df.min())/(df.max()-df.min())\n",
    "X1 = normalized_df"
   ]
  },
  {
   "cell_type": "markdown",
   "metadata": {},
   "source": [
    "### Lasso feature importance\n",
    "\n",
    "We have a look at the feature importance using lasso first: \n",
    "\n",
    "Lasso works well for linear approximations. We should get an idea of which features are important with this method but should not expect the best results. \n",
    "\n"
   ]
  },
  {
   "cell_type": "code",
   "execution_count": 111,
   "metadata": {
    "scrolled": false
   },
   "outputs": [
    {
     "data": {
      "image/png": "[encoded data removed]",
      "text/plain": [
       "<Figure size 432x288 with 1 Axes>"
      ]
     },
     "metadata": {
      "needs_background": "light"
     },
     "output_type": "display_data"
    }
   ],
   "source": [
    "lasso = lm.Lasso().fit(X1,Y1)\n",
    "importance = np.abs(lasso.coef_)\n",
    "feature_names = np.arange(0,n_feats)\n",
    "plt.bar(height=importance, x=feature_names)\n",
    "plt.xticks(feature_names, X1.columns, rotation='vertical')\n",
    "plt.title(\"Feature importance via lasso\")\n",
    "plt.show()"
   ]
  },
  {
   "cell_type": "markdown",
   "metadata": {},
   "source": [
    "I notice a spike on this graph, lets see which feature it is."
   ]
  },
  {
   "cell_type": "code",
   "execution_count": 112,
   "metadata": {},
   "outputs": [
    {
     "name": "stdout",
     "output_type": "stream",
     "text": [
      "kw_avg_avg\n"
     ]
    }
   ],
   "source": [
    "print(X1.columns[np.argmax(importance)])"
   ]
  },
  {
   "cell_type": "code",
   "execution_count": 113,
   "metadata": {},
   "outputs": [
    {
     "data": {
      "image/png": "[encoded data removed]",
      "text/plain": [
       "<Figure size 432x288 with 1 Axes>"
      ]
     },
     "metadata": {
      "needs_background": "light"
     },
     "output_type": "display_data"
    }
   ],
   "source": [
    "sorted_importance = np.sort(importance)[::-1]\n",
    "plt.bar(height = sorted_importance, x=feature_names)\n",
    "plt.title(\"Feature importance via lasso - sorted\")\n",
    "plt.show()\n"
   ]
  },
  {
   "cell_type": "code",
   "execution_count": 114,
   "metadata": {},
   "outputs": [
    {
     "name": "stdout",
     "output_type": "stream",
     "text": [
      "Features selected by SelectFromModel: [ 5  6  7  9 11 12 13 17 19 20 24 25 26 28 37 39 42 43 44 55]\n",
      "Features selected by SelectFromModel: Index(['num_hrefs', 'num_self_hrefs', 'num_imgs', 'average_token_length',\n",
      "       'data_channel_is_lifestyle', 'data_channel_is_entertainment',\n",
      "       'data_channel_is_bus', 'kw_min_min', 'kw_avg_min', 'kw_min_max',\n",
      "       'kw_max_avg', 'kw_avg_avg', 'self_reference_min_shares',\n",
      "       'self_reference_avg_sharess', 'LDA_00', 'LDA_02', 'global_subjectivity',\n",
      "       'global_sentiment_polarity', 'global_rate_positive_words',\n",
      "       'title_sentiment_polarity'],\n",
      "      dtype='object')\n"
     ]
    }
   ],
   "source": [
    "features_to_take = 20\n",
    "threshold = np.sort(importance)[-features_to_take]# + 0.01\n",
    "lasso = SelectFromModel(lasso, threshold=threshold).fit(X1, Y1)\n",
    "print(\"Features selected by SelectFromModel: \"\n",
    "      f\"{feature_names[lasso.get_support()]}\")\n",
    "\n",
    "print(\"Features selected by SelectFromModel: \"\n",
    "      f\"{X1.columns[lasso.get_support()]}\")"
   ]
  },
  {
   "cell_type": "markdown",
   "metadata": {},
   "source": [
    "### Mutual information \n",
    "\n",
    "Feature selection can be performed with a criterion that quantifies the pertinence of features for predicting the target. We will investigate the two following criteria: the correlation coefficient (using `numpy.corrcoef`) and the mutual information (using `sklearn.feature_selection.mutual_info_regression`). A simple feature selection strategy consists in selecting the features achieving a sufficiently high score for a given criterion. \n",
    "\n"
   ]
  },
  {
   "cell_type": "code",
   "execution_count": 115,
   "metadata": {},
   "outputs": [],
   "source": [
    "#Finding the correlation \n",
    "#correlation = np.corrcoef(X1)"
   ]
  },
  {
   "cell_type": "code",
   "execution_count": 116,
   "metadata": {},
   "outputs": [
    {
     "name": "stdout",
     "output_type": "stream",
     "text": [
      "--- 23.325239896774292 seconds ---\n"
     ]
    }
   ],
   "source": [
    "#Finding the mutual information\n",
    "import time\n",
    "start_time = time.time()\n",
    "mutualinfo = fsl.mutual_info_regression(X1, Y1.values.ravel())\n",
    "print(\"--- %s seconds ---\" % (time.time() - start_time))"
   ]
  },
  {
   "cell_type": "code",
   "execution_count": 117,
   "metadata": {
    "scrolled": true
   },
   "outputs": [
    {
     "data": {
      "image/png": "[encoded data removed]",
      "text/plain": [
       "<Figure size 432x288 with 1 Axes>"
      ]
     },
     "metadata": {
      "needs_background": "light"
     },
     "output_type": "display_data"
    }
   ],
   "source": [
    "feature_names = np.arange(0,n_feats)\n",
    "\n",
    "\n",
    "plt.bar(height=mutualinfo, x=feature_names)\n",
    "plt.title(\"Mutual info\")\n",
    "plt.show()"
   ]
  },
  {
   "cell_type": "code",
   "execution_count": 118,
   "metadata": {},
   "outputs": [
    {
     "data": {
      "image/png": "[encoded data removed]",
      "text/plain": [
       "<Figure size 432x288 with 1 Axes>"
      ]
     },
     "metadata": {
      "needs_background": "light"
     },
     "output_type": "display_data"
    }
   ],
   "source": [
    "sorted_mutualinfo = np.sort(mutualinfo)[::-1]\n",
    "plt.bar(height = sorted_mutualinfo, x=feature_names)\n",
    "plt.title(\"Feature importance via MutualInfo - sorted\")\n",
    "plt.show()\n"
   ]
  },
  {
   "cell_type": "code",
   "execution_count": 119,
   "metadata": {},
   "outputs": [
    {
     "name": "stdout",
     "output_type": "stream",
     "text": [
      "0.028186312794894697\n",
      "[[24 25 27 28 39]]\n",
      "(5, 1)\n",
      "[['kw_max_avg']\n",
      " ['kw_avg_avg']\n",
      " ['self_reference_max_shares']\n",
      " ['self_reference_avg_sharess']\n",
      " ['LDA_02']]\n"
     ]
    },
    {
     "name": "stderr",
     "output_type": "stream",
     "text": [
      "<ipython-input-119-cf0d137d60ff>:6: FutureWarning: Support for multi-dimensional indexing (e.g. `obj[:, None]`) is deprecated and will be removed in a future version.  Convert to a numpy array before indexing instead.\n",
      "  print(X1.columns[selected_mutinfo].shape)\n",
      "<ipython-input-119-cf0d137d60ff>:7: FutureWarning: Support for multi-dimensional indexing (e.g. `obj[:, None]`) is deprecated and will be removed in a future version.  Convert to a numpy array before indexing instead.\n",
      "  print(X1.columns[selected_mutinfo])\n"
     ]
    }
   ],
   "source": [
    "features_to_take = 5\n",
    "threshold = sorted_mutualinfo[features_to_take] \n",
    "print(threshold)\n",
    "selected_mutinfo = np.argwhere(mutualinfo > threshold)\n",
    "print(selected_mutinfo.T)\n",
    "print(X1.columns[selected_mutinfo].shape)\n",
    "print(X1.columns[selected_mutinfo])\n"
   ]
  },
  {
   "cell_type": "markdown",
   "metadata": {},
   "source": [
    "The most important feature in **lasso** is also in the most important features here. We have a good idea this feature is of great importance. "
   ]
  },
  {
   "cell_type": "markdown",
   "metadata": {},
   "source": [
    "## Defining a learning and a validation set\n",
    "For this project, I will choose the following ponderation\n",
    " - 80% Learning set\n",
    " - 20% test set"
   ]
  },
  {
   "cell_type": "code",
   "execution_count": 120,
   "metadata": {},
   "outputs": [
    {
     "name": "stdout",
     "output_type": "stream",
     "text": [
      "Index(['kw_max_avg', 'kw_avg_avg', 'self_reference_max_shares',\n",
      "       'self_reference_avg_sharess', 'LDA_02'],\n",
      "      dtype='object')\n"
     ]
    },
    {
     "name": "stderr",
     "output_type": "stream",
     "text": [
      "<ipython-input-120-4b2ae9224020>:3: FutureWarning: Support for multi-dimensional indexing (e.g. `obj[:, None]`) is deprecated and will be removed in a future version.  Convert to a numpy array before indexing instead.\n",
      "  colnames = (X1.columns[selected_mutinfo]).reshape(-1)\n"
     ]
    }
   ],
   "source": [
    "from sklearn.model_selection import train_test_split\n",
    "\n",
    "colnames = (X1.columns[selected_mutinfo]).reshape(-1)\n",
    "#print(colnames)\n",
    "X1_selected = X1[colnames]\n",
    "\n",
    "print(X1_selected.columns)\n",
    "\n",
    "X_train, X_test, y_train, y_test = train_test_split(X1_selected, Y1, test_size=0.2, random_state=1)"
   ]
  },
  {
   "cell_type": "markdown",
   "metadata": {},
   "source": [
    "Before we can start creating models, we must have a score function. It was defined in the statement: \n"
   ]
  },
  {
   "cell_type": "code",
   "execution_count": 121,
   "metadata": {},
   "outputs": [
    {
     "data": {
      "text/plain": [
       "1.0"
      ]
     },
     "execution_count": 121,
     "metadata": {},
     "output_type": "execute_result"
    }
   ],
   "source": [
    "import sklearn\n",
    "def score_f1(ytrue, ypred, th):\n",
    "    return sklearn.metrics.f1_score(ytrue>th, ypred>th)\n",
    "def score_regression(ytrue, ypred):\n",
    "    scores = [score_f1(ytrue, ypred, th=th) for th in [500,1400,5000,10000]]\n",
    "    return np.mean(scores)\n",
    "\n",
    "score_regression(y_test, y_test)\n",
    "#Should print 1 since we're testing a good input-output ratio"
   ]
  },
  {
   "cell_type": "markdown",
   "metadata": {},
   "source": [
    "## Linear Regression"
   ]
  },
  {
   "cell_type": "code",
   "execution_count": 122,
   "metadata": {},
   "outputs": [
    {
     "name": "stdout",
     "output_type": "stream",
     "text": [
      "0.04217800133710592\n",
      "0.42835901228561846\n"
     ]
    }
   ],
   "source": [
    "from sklearn.metrics import mean_squared_error, r2_score\n",
    "linearegr = lm.LinearRegression(n_jobs=-1)\n",
    "linearegr.fit(X_train, y_train)\n",
    "\n",
    "linear_ypred = linearegr.predict(X_test)\n",
    "print(linearegr.score(X_test, y_test))\n",
    "print(score_regression(linear_ypred, y_test))"
   ]
  },
  {
   "cell_type": "markdown",
   "metadata": {},
   "source": [
    "## KNN Regressor\n",
    "When training on k neighbors, we must choose how many neighbors we will choose. For that reason, I will apply the KMN algorithm on 10K values."
   ]
  },
  {
   "cell_type": "code",
   "execution_count": 123,
   "metadata": {},
   "outputs": [],
   "source": [
    "def kmnscore(i):\n",
    "    kmnregr = sklearn.neighbors.KNeighborsRegressor(i,n_jobs=8)\n",
    "    kmnregr.fit(X_train, y_train)\n",
    "    \n",
    "    ykmn = kmnregr.predict(X_test)\n",
    "    ret = score_regression(ykmn, y_test)\n",
    "    return ret"
   ]
  },
  {
   "cell_type": "code",
   "execution_count": 124,
   "metadata": {},
   "outputs": [
    {
     "data": {
      "image/png": "[encoded data removed]",
      "text/plain": [
       "<Figure size 432x288 with 1 Axes>"
      ]
     },
     "metadata": {
      "needs_background": "light"
     },
     "output_type": "display_data"
    }
   ],
   "source": [
    "Kvalue = []\n",
    "Kscore = []\n",
    "for i in range(1,500,10):\n",
    "    Kvalue.append(i)\n",
    "    Kscore.append(kmnscore(i))\n",
    "\n",
    "plt.scatter(Kvalue, Kscore)\n",
    "plt.title('KNN Scores for different K values')\n",
    "plt.show()"
   ]
  },
  {
   "cell_type": "code",
   "execution_count": 125,
   "metadata": {},
   "outputs": [
    {
     "data": {
      "text/plain": [
       "31"
      ]
     },
     "execution_count": 125,
     "metadata": {},
     "output_type": "execute_result"
    }
   ],
   "source": [
    "Kvalue[3]"
   ]
  },
  {
   "cell_type": "markdown",
   "metadata": {},
   "source": [
    "**BEST RESULTS I GOT**\n",
    "- Selected features: 5 \n",
    "- Kvalue: 31\n",
    "- Best val: 0.507"
   ]
  },
  {
   "cell_type": "code",
   "execution_count": 126,
   "metadata": {},
   "outputs": [
    {
     "data": {
      "image/png": "[encoded data removed]",
      "text/plain": [
       "<Figure size 432x288 with 1 Axes>"
      ]
     },
     "metadata": {
      "needs_background": "light"
     },
     "output_type": "display_data"
    }
   ],
   "source": [
    "Kvalue = []\n",
    "Kscore = []\n",
    "for i in range(1,50,1):\n",
    "    Kvalue.append(i)\n",
    "    Kscore.append(kmnscore(i))\n",
    "\n",
    "plt.scatter(Kvalue, Kscore)\n",
    "plt.title('KNN Scores for different K values')\n",
    "\n",
    "plt.show()"
   ]
  },
  {
   "cell_type": "code",
   "execution_count": 127,
   "metadata": {},
   "outputs": [
    {
     "name": "stdout",
     "output_type": "stream",
     "text": [
      "3\n",
      "0.4686668299678795\n"
     ]
    }
   ],
   "source": [
    "print(np.argmax(Kscore))\n",
    "print(np.max(Kscore))\n"
   ]
  },
  {
   "cell_type": "markdown",
   "metadata": {},
   "source": [
    "# SKLEARN MLP\n"
   ]
  },
  {
   "cell_type": "code",
   "execution_count": 128,
   "metadata": {},
   "outputs": [
    {
     "name": "stdout",
     "output_type": "stream",
     "text": [
      "(15730,)\n",
      "(15730, 5)\n",
      "<class 'numpy.ndarray'>\n"
     ]
    }
   ],
   "source": [
    "print(y_train.values.ravel().shape)\n",
    "print(X_train.values.shape)\n",
    "\n",
    "print(type(X_train.values))"
   ]
  },
  {
   "cell_type": "code",
   "execution_count": 129,
   "metadata": {
    "scrolled": true
   },
   "outputs": [
    {
     "name": "stdout",
     "output_type": "stream",
     "text": [
      "Iteration 1, loss = 11607428.88098397\n",
      "Iteration 2, loss = 11587173.60182031\n",
      "Iteration 3, loss = 11518048.79021488\n",
      "Iteration 4, loss = 11361776.84840748\n",
      "Iteration 5, loss = 11089846.39570842\n",
      "Iteration 6, loss = 10695066.53641920\n",
      "Iteration 7, loss = 10201953.75618097\n",
      "Iteration 8, loss = 9660989.06370035\n",
      "Iteration 9, loss = 9137706.73911831\n",
      "Iteration 10, loss = 8700424.41484500\n",
      "Iteration 11, loss = 8382659.11504085\n",
      "Iteration 12, loss = 8176379.72995006\n",
      "Iteration 13, loss = 8048130.67538850\n",
      "Iteration 14, loss = 7964166.23247156\n",
      "Iteration 15, loss = 7905919.48107521\n",
      "Iteration 16, loss = 7862651.31732687\n",
      "Iteration 17, loss = 7827751.57588682\n",
      "Iteration 18, loss = 7798907.76835476\n",
      "Iteration 19, loss = 7774421.89008784\n",
      "Iteration 20, loss = 7753070.25930978\n",
      "Iteration 21, loss = 7734532.20277985\n",
      "Iteration 22, loss = 7718129.73081897\n",
      "Iteration 23, loss = 7703629.35626062\n",
      "Iteration 24, loss = 7690904.59983826\n",
      "Iteration 25, loss = 7680001.79786249\n",
      "Iteration 26, loss = 7669828.68268538\n",
      "Iteration 27, loss = 7660973.11655251\n",
      "Iteration 28, loss = 7653367.29731411\n",
      "Iteration 29, loss = 7646614.47963982\n",
      "Iteration 30, loss = 7640820.83389231\n",
      "Iteration 31, loss = 7635678.07211812\n",
      "Iteration 32, loss = 7631358.21481693\n",
      "Iteration 33, loss = 7627697.48336613\n",
      "Iteration 34, loss = 7624294.01027390\n",
      "Iteration 35, loss = 7621344.61318598\n",
      "Iteration 36, loss = 7619149.69301146\n",
      "Iteration 37, loss = 7616911.40225409\n",
      "Iteration 38, loss = 7615277.47822839\n",
      "Iteration 39, loss = 7613203.25994081\n",
      "Iteration 40, loss = 7611875.41127046\n",
      "Iteration 41, loss = 7610691.43493579\n",
      "Iteration 42, loss = 7609603.16894174\n",
      "Iteration 43, loss = 7608498.38901630\n",
      "Iteration 44, loss = 7607301.62637621\n",
      "Iteration 45, loss = 7606443.74711353\n",
      "Iteration 46, loss = 7605791.57781676\n",
      "Iteration 47, loss = 7605153.10090594\n",
      "Iteration 48, loss = 7604206.17492159\n",
      "Iteration 49, loss = 7603312.65245702\n",
      "Iteration 50, loss = 7602726.53725153\n"
     ]
    }
   ],
   "source": [
    "from sklearn.model_selection import train_test_split    \n",
    "from sklearn.neural_network import MLPRegressor\n",
    "\n",
    "\n",
    "rgr = MLPRegressor(hidden_layer_sizes=(64,20 ), verbose=True)\n",
    "\n",
    "\n",
    "for i in list(range(50)):\n",
    "    rgr.partial_fit(X_train.values, y_train.values.reshape(-1))\n",
    "\n",
    "y_predicted = rgr.predict(X_test)\n"
   ]
  },
  {
   "cell_type": "code",
   "execution_count": 130,
   "metadata": {},
   "outputs": [
    {
     "name": "stdout",
     "output_type": "stream",
     "text": [
      "0.41687832882001347\n"
     ]
    }
   ],
   "source": [
    "print(score_regression(y_predicted, y_test))"
   ]
  },
  {
   "cell_type": "code",
   "execution_count": null,
   "metadata": {},
   "outputs": [],
   "source": []
  },
  {
   "cell_type": "code",
   "execution_count": null,
   "metadata": {},
   "outputs": [],
   "source": []
  }
 ],
 "metadata": {
  "kernelspec": {
   "display_name": "Python 3",
   "language": "python",
   "name": "python3"
  },
  "language_info": {
   "codemirror_mode": {
    "name": "ipython",
    "version": 3
   },
   "file_extension": ".py",
   "mimetype": "text/x-python",
   "name": "python",
   "nbconvert_exporter": "python",
   "pygments_lexer": "ipython3",
   "version": "3.8.5"
  }
 },
 "nbformat": 4,
 "nbformat_minor": 4
}
