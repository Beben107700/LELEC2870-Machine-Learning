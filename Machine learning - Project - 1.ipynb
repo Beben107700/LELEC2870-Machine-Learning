{
 "cells": [
  {
   "cell_type": "markdown",
   "metadata": {},
   "source": [
    "# Machine learning - Project - 1\n",
    "author: Ben Delcoigne\n",
    "\n",
    "## Feature selection\n",
    "\n",
    "We will start by importing our data and taking a first look at it: \n"
   ]
  },
  {
   "cell_type": "code",
   "execution_count": 1,
   "metadata": {},
   "outputs": [],
   "source": [
    "import pandas as pd\n",
    "import scipy\n",
    "import matplotlib.pyplot as plt\n",
    "import numpy as np\n",
    "import sklearn.linear_model as lm\n",
    "from sklearn.feature_selection import SelectFromModel\n",
    "import sklearn.feature_selection as fsl\n",
    "\n",
    "X1 = pd.read_csv('X1.csv')\n",
    "Y1 = pd.read_csv('Y1.csv', header = None, names = ['shares'])\n",
    "\n",
    "X1 = X1"
   ]
  },
  {
   "cell_type": "code",
   "execution_count": 2,
   "metadata": {},
   "outputs": [
    {
     "data": {
      "text/html": [
       "<div>\n",
       "<style scoped>\n",
       "    .dataframe tbody tr th:only-of-type {\n",
       "        vertical-align: middle;\n",
       "    }\n",
       "\n",
       "    .dataframe tbody tr th {\n",
       "        vertical-align: top;\n",
       "    }\n",
       "\n",
       "    .dataframe thead th {\n",
       "        text-align: right;\n",
       "    }\n",
       "</style>\n",
       "<table border=\"1\" class=\"dataframe\">\n",
       "  <thead>\n",
       "    <tr style=\"text-align: right;\">\n",
       "      <th></th>\n",
       "      <th>n_tokens_title</th>\n",
       "      <th>n_tokens_content</th>\n",
       "      <th>n_unique_tokens</th>\n",
       "      <th>n_non_stop_words</th>\n",
       "      <th>n_non_stop_unique_tokens</th>\n",
       "      <th>num_hrefs</th>\n",
       "      <th>num_self_hrefs</th>\n",
       "      <th>num_imgs</th>\n",
       "      <th>num_videos</th>\n",
       "      <th>average_token_length</th>\n",
       "      <th>...</th>\n",
       "      <th>avg_positive_polarity</th>\n",
       "      <th>min_positive_polarity</th>\n",
       "      <th>max_positive_polarity</th>\n",
       "      <th>avg_negative_polarity</th>\n",
       "      <th>min_negative_polarity</th>\n",
       "      <th>max_negative_polarity</th>\n",
       "      <th>title_subjectivity</th>\n",
       "      <th>title_sentiment_polarity</th>\n",
       "      <th>abs_title_subjectivity</th>\n",
       "      <th>abs_title_sentiment_polarity</th>\n",
       "    </tr>\n",
       "  </thead>\n",
       "  <tbody>\n",
       "    <tr>\n",
       "      <th>0</th>\n",
       "      <td>10.0</td>\n",
       "      <td>379.0</td>\n",
       "      <td>0.521622</td>\n",
       "      <td>1.0</td>\n",
       "      <td>0.697248</td>\n",
       "      <td>5.0</td>\n",
       "      <td>2.0</td>\n",
       "      <td>1.0</td>\n",
       "      <td>0.0</td>\n",
       "      <td>4.126649</td>\n",
       "      <td>...</td>\n",
       "      <td>0.368452</td>\n",
       "      <td>0.1</td>\n",
       "      <td>0.5</td>\n",
       "      <td>-0.244444</td>\n",
       "      <td>-0.500000</td>\n",
       "      <td>-0.050000</td>\n",
       "      <td>0.227273</td>\n",
       "      <td>0.068182</td>\n",
       "      <td>0.272727</td>\n",
       "      <td>0.068182</td>\n",
       "    </tr>\n",
       "    <tr>\n",
       "      <th>1</th>\n",
       "      <td>12.0</td>\n",
       "      <td>402.0</td>\n",
       "      <td>0.502660</td>\n",
       "      <td>1.0</td>\n",
       "      <td>0.645299</td>\n",
       "      <td>12.0</td>\n",
       "      <td>10.0</td>\n",
       "      <td>1.0</td>\n",
       "      <td>0.0</td>\n",
       "      <td>4.537313</td>\n",
       "      <td>...</td>\n",
       "      <td>0.270170</td>\n",
       "      <td>0.1</td>\n",
       "      <td>0.5</td>\n",
       "      <td>-0.159259</td>\n",
       "      <td>-0.166667</td>\n",
       "      <td>-0.155556</td>\n",
       "      <td>0.500000</td>\n",
       "      <td>0.500000</td>\n",
       "      <td>0.000000</td>\n",
       "      <td>0.500000</td>\n",
       "    </tr>\n",
       "    <tr>\n",
       "      <th>2</th>\n",
       "      <td>11.0</td>\n",
       "      <td>0.0</td>\n",
       "      <td>0.000000</td>\n",
       "      <td>0.0</td>\n",
       "      <td>0.000000</td>\n",
       "      <td>0.0</td>\n",
       "      <td>0.0</td>\n",
       "      <td>0.0</td>\n",
       "      <td>1.0</td>\n",
       "      <td>0.000000</td>\n",
       "      <td>...</td>\n",
       "      <td>0.000000</td>\n",
       "      <td>0.0</td>\n",
       "      <td>0.0</td>\n",
       "      <td>0.000000</td>\n",
       "      <td>0.000000</td>\n",
       "      <td>0.000000</td>\n",
       "      <td>0.000000</td>\n",
       "      <td>0.000000</td>\n",
       "      <td>0.500000</td>\n",
       "      <td>0.000000</td>\n",
       "    </tr>\n",
       "    <tr>\n",
       "      <th>3</th>\n",
       "      <td>9.0</td>\n",
       "      <td>256.0</td>\n",
       "      <td>0.619608</td>\n",
       "      <td>1.0</td>\n",
       "      <td>0.792208</td>\n",
       "      <td>2.0</td>\n",
       "      <td>0.0</td>\n",
       "      <td>0.0</td>\n",
       "      <td>1.0</td>\n",
       "      <td>4.644531</td>\n",
       "      <td>...</td>\n",
       "      <td>0.245130</td>\n",
       "      <td>0.1</td>\n",
       "      <td>1.0</td>\n",
       "      <td>-0.500000</td>\n",
       "      <td>-0.500000</td>\n",
       "      <td>-0.500000</td>\n",
       "      <td>0.200000</td>\n",
       "      <td>0.100000</td>\n",
       "      <td>0.300000</td>\n",
       "      <td>0.100000</td>\n",
       "    </tr>\n",
       "    <tr>\n",
       "      <th>4</th>\n",
       "      <td>12.0</td>\n",
       "      <td>268.0</td>\n",
       "      <td>0.591603</td>\n",
       "      <td>1.0</td>\n",
       "      <td>0.740260</td>\n",
       "      <td>1.0</td>\n",
       "      <td>1.0</td>\n",
       "      <td>1.0</td>\n",
       "      <td>1.0</td>\n",
       "      <td>4.671642</td>\n",
       "      <td>...</td>\n",
       "      <td>0.539076</td>\n",
       "      <td>0.2</td>\n",
       "      <td>1.0</td>\n",
       "      <td>-0.254167</td>\n",
       "      <td>-0.500000</td>\n",
       "      <td>-0.050000</td>\n",
       "      <td>0.000000</td>\n",
       "      <td>0.000000</td>\n",
       "      <td>0.500000</td>\n",
       "      <td>0.000000</td>\n",
       "    </tr>\n",
       "  </tbody>\n",
       "</table>\n",
       "<p>5 rows × 58 columns</p>\n",
       "</div>"
      ],
      "text/plain": [
       "   n_tokens_title  n_tokens_content  n_unique_tokens  n_non_stop_words  \\\n",
       "0            10.0             379.0         0.521622               1.0   \n",
       "1            12.0             402.0         0.502660               1.0   \n",
       "2            11.0               0.0         0.000000               0.0   \n",
       "3             9.0             256.0         0.619608               1.0   \n",
       "4            12.0             268.0         0.591603               1.0   \n",
       "\n",
       "   n_non_stop_unique_tokens  num_hrefs  num_self_hrefs  num_imgs  num_videos  \\\n",
       "0                  0.697248        5.0             2.0       1.0         0.0   \n",
       "1                  0.645299       12.0            10.0       1.0         0.0   \n",
       "2                  0.000000        0.0             0.0       0.0         1.0   \n",
       "3                  0.792208        2.0             0.0       0.0         1.0   \n",
       "4                  0.740260        1.0             1.0       1.0         1.0   \n",
       "\n",
       "   average_token_length  ...  avg_positive_polarity  min_positive_polarity  \\\n",
       "0              4.126649  ...               0.368452                    0.1   \n",
       "1              4.537313  ...               0.270170                    0.1   \n",
       "2              0.000000  ...               0.000000                    0.0   \n",
       "3              4.644531  ...               0.245130                    0.1   \n",
       "4              4.671642  ...               0.539076                    0.2   \n",
       "\n",
       "   max_positive_polarity  avg_negative_polarity  min_negative_polarity  \\\n",
       "0                    0.5              -0.244444              -0.500000   \n",
       "1                    0.5              -0.159259              -0.166667   \n",
       "2                    0.0               0.000000               0.000000   \n",
       "3                    1.0              -0.500000              -0.500000   \n",
       "4                    1.0              -0.254167              -0.500000   \n",
       "\n",
       "   max_negative_polarity  title_subjectivity  title_sentiment_polarity  \\\n",
       "0              -0.050000            0.227273                  0.068182   \n",
       "1              -0.155556            0.500000                  0.500000   \n",
       "2               0.000000            0.000000                  0.000000   \n",
       "3              -0.500000            0.200000                  0.100000   \n",
       "4              -0.050000            0.000000                  0.000000   \n",
       "\n",
       "   abs_title_subjectivity  abs_title_sentiment_polarity  \n",
       "0                0.272727                      0.068182  \n",
       "1                0.000000                      0.500000  \n",
       "2                0.500000                      0.000000  \n",
       "3                0.300000                      0.100000  \n",
       "4                0.500000                      0.000000  \n",
       "\n",
       "[5 rows x 58 columns]"
      ]
     },
     "execution_count": 2,
     "metadata": {},
     "output_type": "execute_result"
    }
   ],
   "source": [
    "X1.describe()\n",
    "X1.head()"
   ]
  },
  {
   "cell_type": "code",
   "execution_count": 3,
   "metadata": {},
   "outputs": [
    {
     "data": {
      "text/html": [
       "<div>\n",
       "<style scoped>\n",
       "    .dataframe tbody tr th:only-of-type {\n",
       "        vertical-align: middle;\n",
       "    }\n",
       "\n",
       "    .dataframe tbody tr th {\n",
       "        vertical-align: top;\n",
       "    }\n",
       "\n",
       "    .dataframe thead th {\n",
       "        text-align: right;\n",
       "    }\n",
       "</style>\n",
       "<table border=\"1\" class=\"dataframe\">\n",
       "  <thead>\n",
       "    <tr style=\"text-align: right;\">\n",
       "      <th></th>\n",
       "      <th>shares</th>\n",
       "    </tr>\n",
       "  </thead>\n",
       "  <tbody>\n",
       "    <tr>\n",
       "      <th>count</th>\n",
       "      <td>19822.00000</td>\n",
       "    </tr>\n",
       "    <tr>\n",
       "      <th>mean</th>\n",
       "      <td>3430.66850</td>\n",
       "    </tr>\n",
       "    <tr>\n",
       "      <th>std</th>\n",
       "      <td>11789.36858</td>\n",
       "    </tr>\n",
       "    <tr>\n",
       "      <th>min</th>\n",
       "      <td>1.00000</td>\n",
       "    </tr>\n",
       "    <tr>\n",
       "      <th>25%</th>\n",
       "      <td>949.00000</td>\n",
       "    </tr>\n",
       "    <tr>\n",
       "      <th>50%</th>\n",
       "      <td>1400.00000</td>\n",
       "    </tr>\n",
       "    <tr>\n",
       "      <th>75%</th>\n",
       "      <td>2800.00000</td>\n",
       "    </tr>\n",
       "    <tr>\n",
       "      <th>max</th>\n",
       "      <td>843300.00000</td>\n",
       "    </tr>\n",
       "  </tbody>\n",
       "</table>\n",
       "</div>"
      ],
      "text/plain": [
       "             shares\n",
       "count   19822.00000\n",
       "mean     3430.66850\n",
       "std     11789.36858\n",
       "min         1.00000\n",
       "25%       949.00000\n",
       "50%      1400.00000\n",
       "75%      2800.00000\n",
       "max    843300.00000"
      ]
     },
     "execution_count": 3,
     "metadata": {},
     "output_type": "execute_result"
    }
   ],
   "source": [
    "Y1.describe()"
   ]
  },
  {
   "cell_type": "markdown",
   "metadata": {},
   "source": [
    "## Removing outliers?\n"
   ]
  },
  {
   "cell_type": "code",
   "execution_count": 4,
   "metadata": {},
   "outputs": [
    {
     "name": "stdout",
     "output_type": "stream",
     "text": [
      "[ True  True  True ...  True  True  True]\n",
      "19663\n",
      "19822\n"
     ]
    },
    {
     "data": {
      "text/html": [
       "<div>\n",
       "<style scoped>\n",
       "    .dataframe tbody tr th:only-of-type {\n",
       "        vertical-align: middle;\n",
       "    }\n",
       "\n",
       "    .dataframe tbody tr th {\n",
       "        vertical-align: top;\n",
       "    }\n",
       "\n",
       "    .dataframe thead th {\n",
       "        text-align: right;\n",
       "    }\n",
       "</style>\n",
       "<table border=\"1\" class=\"dataframe\">\n",
       "  <thead>\n",
       "    <tr style=\"text-align: right;\">\n",
       "      <th></th>\n",
       "      <th>shares</th>\n",
       "    </tr>\n",
       "  </thead>\n",
       "  <tbody>\n",
       "    <tr>\n",
       "      <th>count</th>\n",
       "      <td>19663.000000</td>\n",
       "    </tr>\n",
       "    <tr>\n",
       "      <th>mean</th>\n",
       "      <td>2768.815135</td>\n",
       "    </tr>\n",
       "    <tr>\n",
       "      <th>std</th>\n",
       "      <td>3992.858725</td>\n",
       "    </tr>\n",
       "    <tr>\n",
       "      <th>min</th>\n",
       "      <td>1.000000</td>\n",
       "    </tr>\n",
       "    <tr>\n",
       "      <th>25%</th>\n",
       "      <td>945.000000</td>\n",
       "    </tr>\n",
       "    <tr>\n",
       "      <th>50%</th>\n",
       "      <td>1400.000000</td>\n",
       "    </tr>\n",
       "    <tr>\n",
       "      <th>75%</th>\n",
       "      <td>2700.000000</td>\n",
       "    </tr>\n",
       "    <tr>\n",
       "      <th>max</th>\n",
       "      <td>38700.000000</td>\n",
       "    </tr>\n",
       "  </tbody>\n",
       "</table>\n",
       "</div>"
      ],
      "text/plain": [
       "             shares\n",
       "count  19663.000000\n",
       "mean    2768.815135\n",
       "std     3992.858725\n",
       "min        1.000000\n",
       "25%      945.000000\n",
       "50%     1400.000000\n",
       "75%     2700.000000\n",
       "max    38700.000000"
      ]
     },
     "execution_count": 4,
     "metadata": {},
     "output_type": "execute_result"
    }
   ],
   "source": [
    "z_scores = scipy.stats.zscore(Y1)\n",
    "filtered = (np.abs(z_scores)<3).all(axis=1)\n",
    "print(filtered)\n",
    "true = 0\n",
    "total = len(filtered)\n",
    "for i in filtered: \n",
    "    if i:\n",
    "        true+=1\n",
    "print(true)\n",
    "print(total)\n",
    "\n",
    "X1 = X1[filtered]\n",
    "Y1 = Y1[filtered]\n",
    "\n",
    "Y1.describe()"
   ]
  },
  {
   "cell_type": "code",
   "execution_count": 5,
   "metadata": {},
   "outputs": [
    {
     "name": "stdout",
     "output_type": "stream",
     "text": [
      "[-0.01401332  0.00089562 -0.0168439  -0.03166801 -0.03761101  0.07654033\n",
      "  0.01279757  0.08147842  0.03658408 -0.03765049  0.0412085   0.02034043\n",
      " -0.04286412 -0.04348022  0.04980581  0.00685073 -0.09447022  0.0177207\n",
      "  0.0393299   0.04080454  0.01428435 -0.00088439  0.05149109  0.08314915\n",
      "  0.10967531  0.18572532  0.0517502   0.05289959  0.06217173 -0.00193513\n",
      " -0.02443006 -0.01579065 -0.02137719  0.00717887  0.03809475  0.05098491\n",
      "  0.06557879  0.00019077 -0.02699137 -0.10585314  0.12431228 -0.00357237\n",
      "  0.06175997  0.01545899  0.01199752  0.02008216 -0.02061558 -0.00915746\n",
      "  0.03590221  0.01068577  0.02437531 -0.03777176 -0.02529485 -0.01497394\n",
      "  0.04536092  0.03206055 -0.00296252  0.04774786]\n"
     ]
    }
   ],
   "source": [
    "#We can take a look at the correlation of our data\n",
    "n_samples, n_feats = X1.shape\n",
    "corr_vec = np.corrcoef(X1,Y1, rowvar=False)[-1, :n_feats]\n",
    "most_corr = np.argsort(np.abs(corr_vec))\n",
    "\n",
    "print(corr_vec)"
   ]
  },
  {
   "cell_type": "markdown",
   "metadata": {},
   "source": [
    "We notice the linear correlation between the features is not good, which is to be expected"
   ]
  },
  {
   "cell_type": "markdown",
   "metadata": {},
   "source": [
    "## Normalizing our data\n",
    "In order for our models to work, we can normalize the data. This is to make sure some data are not overwhelming the effects of other data since some models apply the same weight to each feature. "
   ]
  },
  {
   "cell_type": "code",
   "execution_count": 6,
   "metadata": {},
   "outputs": [],
   "source": [
    "df = X1\n",
    "normalized_df=(df-df.min())/(df.max()-df.min())\n",
    "X1 = normalized_df"
   ]
  },
  {
   "cell_type": "markdown",
   "metadata": {},
   "source": [
    "### Lasso feature importance\n",
    "\n",
    "We have a look at the feature importance using lasso first: \n",
    "\n",
    "Lasso works well for linear approximations. We should get an idea of which features are important with this method but should not expect the best results. \n",
    "\n"
   ]
  },
  {
   "cell_type": "code",
   "execution_count": 6,
   "metadata": {
    "scrolled": false
   },
   "outputs": [
    {
     "data": {
      "image/png": "[encoded data removed]",
      "text/plain": [
       "<Figure size 432x288 with 1 Axes>"
      ]
     },
     "metadata": {
      "needs_background": "light"
     },
     "output_type": "display_data"
    }
   ],
   "source": [
    "lasso = lm.Lasso().fit(X1,Y1)\n",
    "importance = np.abs(lasso.coef_)\n",
    "feature_names = np.arange(0,n_feats)\n",
    "plt.bar(height=importance, x=feature_names)\n",
    "plt.xticks(feature_names, X1.columns, rotation='vertical')\n",
    "plt.title(\"Feature importance via lasso\")\n",
    "plt.show()"
   ]
  },
  {
   "cell_type": "markdown",
   "metadata": {},
   "source": [
    "I notice a spike on this graph, lets see which feature it is."
   ]
  },
  {
   "cell_type": "code",
   "execution_count": 7,
   "metadata": {},
   "outputs": [
    {
     "name": "stdout",
     "output_type": "stream",
     "text": [
      "global_subjectivity\n"
     ]
    }
   ],
   "source": [
    "print(X1.columns[np.argmax(importance)])"
   ]
  },
  {
   "cell_type": "code",
   "execution_count": 8,
   "metadata": {},
   "outputs": [
    {
     "data": {
      "image/png": "[encoded data removed]",
      "text/plain": [
       "<Figure size 432x288 with 1 Axes>"
      ]
     },
     "metadata": {
      "needs_background": "light"
     },
     "output_type": "display_data"
    }
   ],
   "source": [
    "sorted_importance = np.sort(importance)[::-1]\n",
    "plt.bar(height = sorted_importance, x=feature_names)\n",
    "plt.title(\"Feature importance via lasso - sorted\")\n",
    "plt.show()\n"
   ]
  },
  {
   "cell_type": "code",
   "execution_count": 9,
   "metadata": {},
   "outputs": [
    {
     "name": "stdout",
     "output_type": "stream",
     "text": [
      "Features selected by SelectFromModel: [ 9 11 12 13 14 15 16 30 32 35 36 37 38 39 42 43 48 54 55 56]\n",
      "Features selected by SelectFromModel: Index(['average_token_length', 'data_channel_is_lifestyle',\n",
      "       'data_channel_is_entertainment', 'data_channel_is_bus',\n",
      "       'data_channel_is_socmed', 'data_channel_is_tech',\n",
      "       'data_channel_is_world', 'weekday_is_tuesday', 'weekday_is_thursday',\n",
      "       'weekday_is_sunday', 'is_weekend', 'LDA_00', 'LDA_01', 'LDA_02',\n",
      "       'global_subjectivity', 'global_sentiment_polarity',\n",
      "       'avg_positive_polarity', 'title_subjectivity',\n",
      "       'title_sentiment_polarity', 'abs_title_subjectivity'],\n",
      "      dtype='object')\n"
     ]
    }
   ],
   "source": [
    "features_to_take = 20\n",
    "threshold = np.sort(importance)[-features_to_take]# + 0.01\n",
    "lasso = SelectFromModel(lasso, threshold=threshold).fit(X1, Y1)\n",
    "print(\"Features selected by SelectFromModel: \"\n",
    "      f\"{feature_names[lasso.get_support()]}\")\n",
    "\n",
    "print(\"Features selected by SelectFromModel: \"\n",
    "      f\"{X1.columns[lasso.get_support()]}\")"
   ]
  },
  {
   "cell_type": "markdown",
   "metadata": {},
   "source": [
    "### Mutual information \n",
    "\n",
    "Feature selection can be performed with a criterion that quantifies the pertinence of features for predicting the target. We will investigate the two following criteria: the correlation coefficient (using `numpy.corrcoef`) and the mutual information (using `sklearn.feature_selection.mutual_info_regression`). A simple feature selection strategy consists in selecting the features achieving a sufficiently high score for a given criterion. \n",
    "\n"
   ]
  },
  {
   "cell_type": "code",
   "execution_count": 7,
   "metadata": {},
   "outputs": [],
   "source": [
    "#Finding the correlation \n",
    "#correlation = np.corrcoef(X1)"
   ]
  },
  {
   "cell_type": "code",
   "execution_count": 8,
   "metadata": {},
   "outputs": [
    {
     "name": "stdout",
     "output_type": "stream",
     "text": [
      "--- 23.54042887687683 seconds ---\n"
     ]
    }
   ],
   "source": [
    "#Finding the mutual information\n",
    "import time\n",
    "start_time = time.time()\n",
    "mutualinfo = fsl.mutual_info_regression(X1, Y1.values.ravel())\n",
    "print(\"--- %s seconds ---\" % (time.time() - start_time))"
   ]
  },
  {
   "cell_type": "code",
   "execution_count": 11,
   "metadata": {
    "scrolled": true
   },
   "outputs": [
    {
     "data": {
      "image/png": "[encoded data removed]",
      "text/plain": [
       "<Figure size 432x288 with 1 Axes>"
      ]
     },
     "metadata": {
      "needs_background": "light"
     },
     "output_type": "display_data"
    }
   ],
   "source": [
    "feature_names = np.arange(0,n_feats)\n",
    "\n",
    "\n",
    "plt.bar(height=mutualinfo, x=feature_names)\n",
    "plt.title(\"Mutual info\")\n",
    "plt.show()"
   ]
  },
  {
   "cell_type": "code",
   "execution_count": 12,
   "metadata": {},
   "outputs": [
    {
     "data": {
      "image/png": "[encoded data removed]",
      "text/plain": [
       "<Figure size 432x288 with 1 Axes>"
      ]
     },
     "metadata": {
      "needs_background": "light"
     },
     "output_type": "display_data"
    }
   ],
   "source": [
    "sorted_mutualinfo = np.sort(mutualinfo)[::-1]\n",
    "plt.bar(height = sorted_mutualinfo, x=feature_names)\n",
    "plt.title(\"Feature importance via MutualInfo - sorted\")\n",
    "plt.show()\n"
   ]
  },
  {
   "cell_type": "code",
   "execution_count": 13,
   "metadata": {},
   "outputs": [
    {
     "name": "stdout",
     "output_type": "stream",
     "text": [
      "0.012051363673633464\n",
      "[[ 1  6  7 16 20 21 22 23 24 25 26 27 28 36 37 38 39 40 41 49]]\n",
      "(20, 1)\n",
      "[['n_tokens_content']\n",
      " ['num_self_hrefs']\n",
      " ['num_imgs']\n",
      " ['data_channel_is_world']\n",
      " ['kw_min_max']\n",
      " ['kw_max_max']\n",
      " ['kw_avg_max']\n",
      " ['kw_min_avg']\n",
      " ['kw_max_avg']\n",
      " ['kw_avg_avg']\n",
      " ['self_reference_min_shares']\n",
      " ['self_reference_max_shares']\n",
      " ['self_reference_avg_sharess']\n",
      " ['is_weekend']\n",
      " ['LDA_00']\n",
      " ['LDA_01']\n",
      " ['LDA_02']\n",
      " ['LDA_03']\n",
      " ['LDA_04']\n",
      " ['min_positive_polarity']]\n"
     ]
    },
    {
     "name": "stderr",
     "output_type": "stream",
     "text": [
      "<ipython-input-13-cf9a2327db03>:6: FutureWarning: Support for multi-dimensional indexing (e.g. `obj[:, None]`) is deprecated and will be removed in a future version.  Convert to a numpy array before indexing instead.\n",
      "  print(X1.columns[selected_mutinfo].shape)\n",
      "<ipython-input-13-cf9a2327db03>:7: FutureWarning: Support for multi-dimensional indexing (e.g. `obj[:, None]`) is deprecated and will be removed in a future version.  Convert to a numpy array before indexing instead.\n",
      "  print(X1.columns[selected_mutinfo])\n"
     ]
    }
   ],
   "source": [
    "features_to_take = 20\n",
    "threshold = sorted_mutualinfo[features_to_take] \n",
    "print(threshold)\n",
    "selected_mutinfo = np.argwhere(mutualinfo > threshold)\n",
    "print(selected_mutinfo.T)\n",
    "print(X1.columns[selected_mutinfo].shape)\n",
    "print(X1.columns[selected_mutinfo])\n"
   ]
  },
  {
   "cell_type": "markdown",
   "metadata": {},
   "source": [
    "The most important feature in **lasso** is also in the most important features here. We have a good idea this feature is of great importance. "
   ]
  },
  {
   "cell_type": "markdown",
   "metadata": {},
   "source": [
    "## Defining a learning and a validation set\n",
    "For this project, I will choose the following ponderation\n",
    " - 80% Learning set\n",
    " - 20% test set"
   ]
  },
  {
   "cell_type": "code",
   "execution_count": 14,
   "metadata": {},
   "outputs": [
    {
     "name": "stdout",
     "output_type": "stream",
     "text": [
      "Index(['n_tokens_content', 'num_self_hrefs', 'num_imgs',\n",
      "       'data_channel_is_world', 'kw_min_max', 'kw_max_max', 'kw_avg_max',\n",
      "       'kw_min_avg', 'kw_max_avg', 'kw_avg_avg', 'self_reference_min_shares',\n",
      "       'self_reference_max_shares', 'self_reference_avg_sharess', 'is_weekend',\n",
      "       'LDA_00', 'LDA_01', 'LDA_02', 'LDA_03', 'LDA_04',\n",
      "       'min_positive_polarity'],\n",
      "      dtype='object')\n"
     ]
    },
    {
     "name": "stderr",
     "output_type": "stream",
     "text": [
      "<ipython-input-14-4b2ae9224020>:3: FutureWarning: Support for multi-dimensional indexing (e.g. `obj[:, None]`) is deprecated and will be removed in a future version.  Convert to a numpy array before indexing instead.\n",
      "  colnames = (X1.columns[selected_mutinfo]).reshape(-1)\n"
     ]
    }
   ],
   "source": [
    "from sklearn.model_selection import train_test_split\n",
    "\n",
    "colnames = (X1.columns[selected_mutinfo]).reshape(-1)\n",
    "#print(colnames)\n",
    "X1_selected = X1[colnames]\n",
    "\n",
    "print(X1_selected.columns)\n",
    "\n",
    "X_train, X_test, y_train, y_test = train_test_split(X1_selected, Y1, test_size=0.2, random_state=1)"
   ]
  },
  {
   "cell_type": "markdown",
   "metadata": {},
   "source": [
    "Before we can start creating models, we must have a score function. It was defined in the statement: \n"
   ]
  },
  {
   "cell_type": "code",
   "execution_count": 15,
   "metadata": {},
   "outputs": [
    {
     "data": {
      "text/plain": [
       "1.0"
      ]
     },
     "execution_count": 15,
     "metadata": {},
     "output_type": "execute_result"
    }
   ],
   "source": [
    "import sklearn\n",
    "def score_f1(ytrue, ypred, th):\n",
    "    return sklearn.metrics.f1_score(ytrue>th, ypred>th)\n",
    "def score_regression(ytrue, ypred):\n",
    "    scores = [score_f1(ytrue, ypred, th=th) for th in [500,1400,5000,10000]]\n",
    "    return np.mean(scores)\n",
    "\n",
    "score_regression(y_test, y_test)\n",
    "#Should print 1 since we're testing a good input-output ratio"
   ]
  },
  {
   "cell_type": "markdown",
   "metadata": {},
   "source": [
    "## Linear Regression"
   ]
  },
  {
   "cell_type": "code",
   "execution_count": 16,
   "metadata": {},
   "outputs": [
    {
     "name": "stdout",
     "output_type": "stream",
     "text": [
      "0.04726285760201254\n",
      "0.43950950801453015\n"
     ]
    }
   ],
   "source": [
    "from sklearn.metrics import mean_squared_error, r2_score\n",
    "linearegr = lm.LinearRegression(n_jobs=-1)\n",
    "linearegr.fit(X_train, y_train)\n",
    "\n",
    "linear_ypred = linearegr.predict(X_test)\n",
    "print(linearegr.score(X_test, y_test))\n",
    "print(score_regression(linear_ypred, y_test))"
   ]
  },
  {
   "cell_type": "markdown",
   "metadata": {},
   "source": [
    "## KNN Regressor\n",
    "When training on k neighbors, we must choose how many neighbors we will choose. For that reason, I will apply the KMN algorithm on 10K values."
   ]
  },
  {
   "cell_type": "code",
   "execution_count": 18,
   "metadata": {},
   "outputs": [],
   "source": [
    "def kmnscore(i):\n",
    "    kmnregr = sklearn.neighbors.KNeighborsRegressor(i,n_jobs=8)\n",
    "    kmnregr.fit(X_train, y_train)\n",
    "    \n",
    "    ykmn = kmnregr.predict(X_test)\n",
    "    ret = score_regression(ykmn, y_test)\n",
    "    return ret"
   ]
  },
  {
   "cell_type": "code",
   "execution_count": 19,
   "metadata": {},
   "outputs": [
    {
     "data": {
      "image/png": "[encoded data removed]",
      "text/plain": [
       "<Figure size 432x288 with 1 Axes>"
      ]
     },
     "metadata": {
      "needs_background": "light"
     },
     "output_type": "display_data"
    }
   ],
   "source": [
    "Kvalue = []\n",
    "Kscore = []\n",
    "for i in range(1,500,10):\n",
    "    Kvalue.append(i)\n",
    "    Kscore.append(kmnscore(i))\n",
    "\n",
    "plt.scatter(Kvalue, Kscore)\n",
    "plt.title('KNN Scores for different K values')\n",
    "plt.show()"
   ]
  },
  {
   "cell_type": "code",
   "execution_count": 20,
   "metadata": {},
   "outputs": [
    {
     "data": {
      "text/plain": [
       "31"
      ]
     },
     "execution_count": 20,
     "metadata": {},
     "output_type": "execute_result"
    }
   ],
   "source": [
    "Kvalue[3]"
   ]
  },
  {
   "cell_type": "markdown",
   "metadata": {},
   "source": [
    "**BEST RESULTS I GOT**\n",
    "- Selected features: 5 - Mutual info - No normalization\n",
    "- Kvalue: 31\n",
    "- Best val: 0.507"
   ]
  },
  {
   "cell_type": "code",
   "execution_count": 23,
   "metadata": {},
   "outputs": [
    {
     "data": {
      "image/png": "[encoded data removed]",
      "text/plain": [
       "<Figure size 432x288 with 1 Axes>"
      ]
     },
     "metadata": {
      "needs_background": "light"
     },
     "output_type": "display_data"
    }
   ],
   "source": [
    "Kvalue = []\n",
    "Kscore = []\n",
    "for i in range(1,50,1):\n",
    "    Kvalue.append(i)\n",
    "    Kscore.append(kmnscore(i))\n",
    "\n",
    "plt.scatter(Kvalue, Kscore)\n",
    "plt.title('KNN Scores for different K values')\n",
    "\n",
    "plt.show()"
   ]
  },
  {
   "cell_type": "code",
   "execution_count": 24,
   "metadata": {},
   "outputs": [
    {
     "name": "stdout",
     "output_type": "stream",
     "text": [
      "10\n",
      "0.47133522211824946\n"
     ]
    }
   ],
   "source": [
    "print(np.argmax(Kscore))\n",
    "print(np.max(Kscore))\n"
   ]
  },
  {
   "cell_type": "markdown",
   "metadata": {},
   "source": [
    "# SKLEARN MLP\n",
    "After numerous attempts on coding the MLP on Pytorch, i managed to get a working template (see pytorch), however its results were not promising. I then switched to TensorFlow which was a pain to install, but I managed to get it working on google collab. The results are not promising either. I thus result in using sklearn which is a billion times less painful to code with, the performances are just reduced because computations are done on the cpu and not the GPU. The results are the same anyway. The reason I stick with sklearn is because setting the parameters is a lot quicker and more user-friendly. "
   ]
  },
  {
   "cell_type": "code",
   "execution_count": 17,
   "metadata": {},
   "outputs": [
    {
     "name": "stdout",
     "output_type": "stream",
     "text": [
      "(15730,)\n",
      "(15730, 20)\n",
      "<class 'numpy.ndarray'>\n"
     ]
    }
   ],
   "source": [
    "print(y_train.values.ravel().shape)\n",
    "print(X_train.values.shape)\n",
    "\n",
    "print(type(X_train.values))"
   ]
  },
  {
   "cell_type": "code",
   "execution_count": 25,
   "metadata": {
    "scrolled": true
   },
   "outputs": [
    {
     "name": "stdout",
     "output_type": "stream",
     "text": [
      "Iteration 1, loss = 8019384.92311074\n",
      "Iteration 2, loss = 7566303.64163518\n",
      "Iteration 3, loss = 7534935.79576796\n",
      "Iteration 4, loss = 7522966.86518681\n",
      "Iteration 5, loss = 7502071.89225293\n",
      "Iteration 6, loss = 7491526.87955401\n",
      "Iteration 7, loss = 7491815.80245467\n",
      "Iteration 8, loss = 7489803.25135457\n",
      "Iteration 9, loss = 7504161.62398779\n",
      "Iteration 10, loss = 7494110.28207166\n",
      "Iteration 11, loss = 7446764.08876290\n",
      "Iteration 12, loss = 7481718.58492746\n",
      "Iteration 13, loss = 7460687.99452882\n",
      "Iteration 14, loss = 7414245.24328714\n",
      "Iteration 15, loss = 7417029.43395743\n",
      "Iteration 16, loss = 7424295.24523903\n",
      "Iteration 17, loss = 7413697.95264298\n",
      "Iteration 18, loss = 7440014.74753400\n",
      "Iteration 19, loss = 7393350.58000815\n",
      "Iteration 20, loss = 7410706.42647787\n",
      "Iteration 21, loss = 7411412.81439907\n",
      "Iteration 22, loss = 7356355.90085522\n",
      "Iteration 23, loss = 7339283.06532904\n",
      "Iteration 24, loss = 7333785.90401946\n",
      "Iteration 25, loss = 7314991.28287049\n",
      "Iteration 26, loss = 7287273.53093270\n",
      "Iteration 27, loss = 7308054.32881116\n",
      "Iteration 28, loss = 7263139.80353254\n",
      "Iteration 29, loss = 7305007.63834424\n",
      "Iteration 30, loss = 7293775.21391678\n",
      "Iteration 31, loss = 7260359.48941173\n",
      "Iteration 32, loss = 7238764.47490370\n",
      "Iteration 33, loss = 7222665.54344886\n",
      "Iteration 34, loss = 7218769.65070096\n",
      "Iteration 35, loss = 7225437.01381500\n",
      "Iteration 36, loss = 7216992.67662187\n",
      "Iteration 37, loss = 7255085.34321674\n",
      "Iteration 38, loss = 7222982.01292764\n",
      "Iteration 39, loss = 7269332.17145883\n",
      "Iteration 40, loss = 7225254.28100829\n",
      "Iteration 41, loss = 7204196.94470490\n",
      "Iteration 42, loss = 7209617.49332901\n",
      "Iteration 43, loss = 7179715.35064669\n",
      "Iteration 44, loss = 7176977.98576861\n",
      "Iteration 45, loss = 7197431.39231750\n",
      "Iteration 46, loss = 7205256.64286170\n",
      "Iteration 47, loss = 7183301.94420875\n",
      "Iteration 48, loss = 7178812.55852785\n",
      "Iteration 49, loss = 7186104.65463516\n",
      "Iteration 50, loss = 7168217.43450928\n",
      "Iteration 51, loss = 7150212.65891918\n",
      "Iteration 52, loss = 7163309.22003588\n",
      "Iteration 53, loss = 7186852.63403392\n",
      "Iteration 54, loss = 7183346.93156783\n",
      "Iteration 55, loss = 7179069.11320005\n",
      "Iteration 56, loss = 7182664.20919172\n",
      "Iteration 57, loss = 7196179.04414813\n",
      "Iteration 58, loss = 7162921.05832348\n",
      "Iteration 59, loss = 7186992.11894476\n",
      "Iteration 60, loss = 7200544.38291829\n",
      "Iteration 61, loss = 7166713.58452214\n",
      "Iteration 62, loss = 7161975.78779717\n",
      "Training loss did not improve more than tol=0.000100 for 10 consecutive epochs. Stopping.\n",
      "Iteration 63, loss = 7190713.83782631\n",
      "Training loss did not improve more than tol=0.000100 for 10 consecutive epochs. Stopping.\n",
      "Iteration 64, loss = 7181245.88131923\n",
      "Training loss did not improve more than tol=0.000100 for 10 consecutive epochs. Stopping.\n",
      "Iteration 65, loss = 7148336.45110871\n",
      "Iteration 66, loss = 7154913.01584693\n",
      "Iteration 67, loss = 7150707.91359662\n",
      "Iteration 68, loss = 7137069.03141607\n",
      "Iteration 69, loss = 7147713.75905632\n",
      "Iteration 70, loss = 7132200.52200853\n",
      "Iteration 71, loss = 7164201.08230318\n",
      "Iteration 72, loss = 7158657.35274924\n",
      "Iteration 73, loss = 7153347.13055089\n",
      "Iteration 74, loss = 7157484.54314070\n",
      "Iteration 75, loss = 7124489.75293786\n",
      "Iteration 76, loss = 7127151.72034749\n",
      "Iteration 77, loss = 7129497.09977142\n",
      "Iteration 78, loss = 7146739.42383792\n",
      "Iteration 79, loss = 7163590.36954096\n",
      "Iteration 80, loss = 7161169.98253560\n",
      "Iteration 81, loss = 7112841.90323823\n",
      "Iteration 82, loss = 7118614.44415407\n",
      "Iteration 83, loss = 7117249.23943849\n",
      "Iteration 84, loss = 7105239.85147025\n",
      "Iteration 85, loss = 7160837.52803089\n",
      "Iteration 86, loss = 7129865.48313175\n",
      "Iteration 87, loss = 7168465.21800775\n",
      "Iteration 88, loss = 7095228.90657073\n",
      "Iteration 89, loss = 7105612.26073725\n",
      "Iteration 90, loss = 7121304.20713643\n",
      "Iteration 91, loss = 7124448.54117827\n",
      "Iteration 92, loss = 7101908.79468607\n",
      "Iteration 93, loss = 7106286.65309108\n",
      "Iteration 94, loss = 7103953.40496701\n",
      "Iteration 95, loss = 7092132.60793249\n",
      "Iteration 96, loss = 7090323.78165085\n",
      "Iteration 97, loss = 7113915.92132406\n",
      "Iteration 98, loss = 7090726.56358075\n",
      "Iteration 99, loss = 7070715.93999827\n",
      "Iteration 100, loss = 7072002.05443281\n"
     ]
    }
   ],
   "source": [
    "from sklearn.model_selection import train_test_split    \n",
    "from sklearn.neural_network import MLPRegressor\n",
    "\n",
    "\n",
    "rgr = MLPRegressor(hidden_layer_sizes=(64,20 ), verbose=True, learning_rate = 'adaptive', learning_rate_init = 0.1)\n",
    "\n",
    "\n",
    "for i in list(range(100)):\n",
    "    rgr.partial_fit(X_train.values, y_train.values.reshape(-1))\n",
    "\n",
    "y_predicted = rgr.predict(X_test)\n"
   ]
  },
  {
   "cell_type": "code",
   "execution_count": 27,
   "metadata": {},
   "outputs": [
    {
     "name": "stdout",
     "output_type": "stream",
     "text": [
      "0.4412487696246217\n"
     ]
    }
   ],
   "source": [
    "print(score_regression(y_predicted, y_test))"
   ]
  },
  {
   "cell_type": "markdown",
   "metadata": {},
   "source": [
    "**Worse than Linear regression.**"
   ]
  },
  {
   "cell_type": "code",
   "execution_count": null,
   "metadata": {},
   "outputs": [],
   "source": []
  }
 ],
 "metadata": {
  "kernelspec": {
   "display_name": "Python 3",
   "language": "python",
   "name": "python3"
  },
  "language_info": {
   "codemirror_mode": {
    "name": "ipython",
    "version": 3
   },
   "file_extension": ".py",
   "mimetype": "text/x-python",
   "name": "python",
   "nbconvert_exporter": "python",
   "pygments_lexer": "ipython3",
   "version": "3.8.5"
  }
 },
 "nbformat": 4,
 "nbformat_minor": 4
}
